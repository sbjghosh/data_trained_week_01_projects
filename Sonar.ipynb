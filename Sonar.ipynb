{
 "cells": [
  {
   "cell_type": "code",
   "execution_count": 14,
   "metadata": {},
   "outputs": [],
   "source": [
    "import pandas as pd\n",
    "import numpy as np\n",
    "import matplotlib.pyplot as plt\n",
    "import seaborn as sns\n",
    "from sklearn.metrics import confusion_matrix,f1_score"
   ]
  },
  {
   "cell_type": "code",
   "execution_count": 15,
   "metadata": {},
   "outputs": [
    {
     "data": {
      "text/html": [
       "<div>\n",
       "<style scoped>\n",
       "    .dataframe tbody tr th:only-of-type {\n",
       "        vertical-align: middle;\n",
       "    }\n",
       "\n",
       "    .dataframe tbody tr th {\n",
       "        vertical-align: top;\n",
       "    }\n",
       "\n",
       "    .dataframe thead th {\n",
       "        text-align: right;\n",
       "    }\n",
       "</style>\n",
       "<table border=\"1\" class=\"dataframe\">\n",
       "  <thead>\n",
       "    <tr style=\"text-align: right;\">\n",
       "      <th></th>\n",
       "      <th>0</th>\n",
       "      <th>1</th>\n",
       "      <th>2</th>\n",
       "      <th>3</th>\n",
       "      <th>4</th>\n",
       "      <th>5</th>\n",
       "      <th>6</th>\n",
       "      <th>7</th>\n",
       "      <th>8</th>\n",
       "      <th>9</th>\n",
       "      <th>...</th>\n",
       "      <th>50</th>\n",
       "      <th>51</th>\n",
       "      <th>52</th>\n",
       "      <th>53</th>\n",
       "      <th>54</th>\n",
       "      <th>55</th>\n",
       "      <th>56</th>\n",
       "      <th>57</th>\n",
       "      <th>58</th>\n",
       "      <th>59</th>\n",
       "    </tr>\n",
       "  </thead>\n",
       "  <tbody>\n",
       "    <tr>\n",
       "      <th>count</th>\n",
       "      <td>208.000000</td>\n",
       "      <td>208.000000</td>\n",
       "      <td>208.000000</td>\n",
       "      <td>208.000000</td>\n",
       "      <td>208.000000</td>\n",
       "      <td>208.000000</td>\n",
       "      <td>208.000000</td>\n",
       "      <td>208.000000</td>\n",
       "      <td>208.000000</td>\n",
       "      <td>208.000000</td>\n",
       "      <td>...</td>\n",
       "      <td>208.000000</td>\n",
       "      <td>208.000000</td>\n",
       "      <td>208.000000</td>\n",
       "      <td>208.000000</td>\n",
       "      <td>208.000000</td>\n",
       "      <td>208.000000</td>\n",
       "      <td>208.000000</td>\n",
       "      <td>208.000000</td>\n",
       "      <td>208.000000</td>\n",
       "      <td>208.000000</td>\n",
       "    </tr>\n",
       "    <tr>\n",
       "      <th>mean</th>\n",
       "      <td>0.029164</td>\n",
       "      <td>0.038437</td>\n",
       "      <td>0.043832</td>\n",
       "      <td>0.053892</td>\n",
       "      <td>0.075202</td>\n",
       "      <td>0.104570</td>\n",
       "      <td>0.121747</td>\n",
       "      <td>0.134799</td>\n",
       "      <td>0.178003</td>\n",
       "      <td>0.208259</td>\n",
       "      <td>...</td>\n",
       "      <td>0.016069</td>\n",
       "      <td>0.013420</td>\n",
       "      <td>0.010709</td>\n",
       "      <td>0.010941</td>\n",
       "      <td>0.009290</td>\n",
       "      <td>0.008222</td>\n",
       "      <td>0.007820</td>\n",
       "      <td>0.007949</td>\n",
       "      <td>0.007941</td>\n",
       "      <td>0.006507</td>\n",
       "    </tr>\n",
       "    <tr>\n",
       "      <th>std</th>\n",
       "      <td>0.022991</td>\n",
       "      <td>0.032960</td>\n",
       "      <td>0.038428</td>\n",
       "      <td>0.046528</td>\n",
       "      <td>0.055552</td>\n",
       "      <td>0.059105</td>\n",
       "      <td>0.061788</td>\n",
       "      <td>0.085152</td>\n",
       "      <td>0.118387</td>\n",
       "      <td>0.134416</td>\n",
       "      <td>...</td>\n",
       "      <td>0.012008</td>\n",
       "      <td>0.009634</td>\n",
       "      <td>0.007060</td>\n",
       "      <td>0.007301</td>\n",
       "      <td>0.007088</td>\n",
       "      <td>0.005736</td>\n",
       "      <td>0.005785</td>\n",
       "      <td>0.006470</td>\n",
       "      <td>0.006181</td>\n",
       "      <td>0.005031</td>\n",
       "    </tr>\n",
       "    <tr>\n",
       "      <th>min</th>\n",
       "      <td>0.001500</td>\n",
       "      <td>0.000600</td>\n",
       "      <td>0.001500</td>\n",
       "      <td>0.005800</td>\n",
       "      <td>0.006700</td>\n",
       "      <td>0.010200</td>\n",
       "      <td>0.003300</td>\n",
       "      <td>0.005500</td>\n",
       "      <td>0.007500</td>\n",
       "      <td>0.011300</td>\n",
       "      <td>...</td>\n",
       "      <td>0.000000</td>\n",
       "      <td>0.000800</td>\n",
       "      <td>0.000500</td>\n",
       "      <td>0.001000</td>\n",
       "      <td>0.000600</td>\n",
       "      <td>0.000400</td>\n",
       "      <td>0.000300</td>\n",
       "      <td>0.000300</td>\n",
       "      <td>0.000100</td>\n",
       "      <td>0.000600</td>\n",
       "    </tr>\n",
       "    <tr>\n",
       "      <th>25%</th>\n",
       "      <td>0.013350</td>\n",
       "      <td>0.016450</td>\n",
       "      <td>0.018950</td>\n",
       "      <td>0.024375</td>\n",
       "      <td>0.038050</td>\n",
       "      <td>0.067025</td>\n",
       "      <td>0.080900</td>\n",
       "      <td>0.080425</td>\n",
       "      <td>0.097025</td>\n",
       "      <td>0.111275</td>\n",
       "      <td>...</td>\n",
       "      <td>0.008425</td>\n",
       "      <td>0.007275</td>\n",
       "      <td>0.005075</td>\n",
       "      <td>0.005375</td>\n",
       "      <td>0.004150</td>\n",
       "      <td>0.004400</td>\n",
       "      <td>0.003700</td>\n",
       "      <td>0.003600</td>\n",
       "      <td>0.003675</td>\n",
       "      <td>0.003100</td>\n",
       "    </tr>\n",
       "    <tr>\n",
       "      <th>50%</th>\n",
       "      <td>0.022800</td>\n",
       "      <td>0.030800</td>\n",
       "      <td>0.034300</td>\n",
       "      <td>0.044050</td>\n",
       "      <td>0.062500</td>\n",
       "      <td>0.092150</td>\n",
       "      <td>0.106950</td>\n",
       "      <td>0.112100</td>\n",
       "      <td>0.152250</td>\n",
       "      <td>0.182400</td>\n",
       "      <td>...</td>\n",
       "      <td>0.013900</td>\n",
       "      <td>0.011400</td>\n",
       "      <td>0.009550</td>\n",
       "      <td>0.009300</td>\n",
       "      <td>0.007500</td>\n",
       "      <td>0.006850</td>\n",
       "      <td>0.005950</td>\n",
       "      <td>0.005800</td>\n",
       "      <td>0.006400</td>\n",
       "      <td>0.005300</td>\n",
       "    </tr>\n",
       "    <tr>\n",
       "      <th>75%</th>\n",
       "      <td>0.035550</td>\n",
       "      <td>0.047950</td>\n",
       "      <td>0.057950</td>\n",
       "      <td>0.064500</td>\n",
       "      <td>0.100275</td>\n",
       "      <td>0.134125</td>\n",
       "      <td>0.154000</td>\n",
       "      <td>0.169600</td>\n",
       "      <td>0.233425</td>\n",
       "      <td>0.268700</td>\n",
       "      <td>...</td>\n",
       "      <td>0.020825</td>\n",
       "      <td>0.016725</td>\n",
       "      <td>0.014900</td>\n",
       "      <td>0.014500</td>\n",
       "      <td>0.012100</td>\n",
       "      <td>0.010575</td>\n",
       "      <td>0.010425</td>\n",
       "      <td>0.010350</td>\n",
       "      <td>0.010325</td>\n",
       "      <td>0.008525</td>\n",
       "    </tr>\n",
       "    <tr>\n",
       "      <th>max</th>\n",
       "      <td>0.137100</td>\n",
       "      <td>0.233900</td>\n",
       "      <td>0.305900</td>\n",
       "      <td>0.426400</td>\n",
       "      <td>0.401000</td>\n",
       "      <td>0.382300</td>\n",
       "      <td>0.372900</td>\n",
       "      <td>0.459000</td>\n",
       "      <td>0.682800</td>\n",
       "      <td>0.710600</td>\n",
       "      <td>...</td>\n",
       "      <td>0.100400</td>\n",
       "      <td>0.070900</td>\n",
       "      <td>0.039000</td>\n",
       "      <td>0.035200</td>\n",
       "      <td>0.044700</td>\n",
       "      <td>0.039400</td>\n",
       "      <td>0.035500</td>\n",
       "      <td>0.044000</td>\n",
       "      <td>0.036400</td>\n",
       "      <td>0.043900</td>\n",
       "    </tr>\n",
       "  </tbody>\n",
       "</table>\n",
       "<p>8 rows × 60 columns</p>\n",
       "</div>"
      ],
      "text/plain": [
       "               0           1           2           3           4           5   \\\n",
       "count  208.000000  208.000000  208.000000  208.000000  208.000000  208.000000   \n",
       "mean     0.029164    0.038437    0.043832    0.053892    0.075202    0.104570   \n",
       "std      0.022991    0.032960    0.038428    0.046528    0.055552    0.059105   \n",
       "min      0.001500    0.000600    0.001500    0.005800    0.006700    0.010200   \n",
       "25%      0.013350    0.016450    0.018950    0.024375    0.038050    0.067025   \n",
       "50%      0.022800    0.030800    0.034300    0.044050    0.062500    0.092150   \n",
       "75%      0.035550    0.047950    0.057950    0.064500    0.100275    0.134125   \n",
       "max      0.137100    0.233900    0.305900    0.426400    0.401000    0.382300   \n",
       "\n",
       "               6           7           8           9   ...          50  \\\n",
       "count  208.000000  208.000000  208.000000  208.000000  ...  208.000000   \n",
       "mean     0.121747    0.134799    0.178003    0.208259  ...    0.016069   \n",
       "std      0.061788    0.085152    0.118387    0.134416  ...    0.012008   \n",
       "min      0.003300    0.005500    0.007500    0.011300  ...    0.000000   \n",
       "25%      0.080900    0.080425    0.097025    0.111275  ...    0.008425   \n",
       "50%      0.106950    0.112100    0.152250    0.182400  ...    0.013900   \n",
       "75%      0.154000    0.169600    0.233425    0.268700  ...    0.020825   \n",
       "max      0.372900    0.459000    0.682800    0.710600  ...    0.100400   \n",
       "\n",
       "               51          52          53          54          55          56  \\\n",
       "count  208.000000  208.000000  208.000000  208.000000  208.000000  208.000000   \n",
       "mean     0.013420    0.010709    0.010941    0.009290    0.008222    0.007820   \n",
       "std      0.009634    0.007060    0.007301    0.007088    0.005736    0.005785   \n",
       "min      0.000800    0.000500    0.001000    0.000600    0.000400    0.000300   \n",
       "25%      0.007275    0.005075    0.005375    0.004150    0.004400    0.003700   \n",
       "50%      0.011400    0.009550    0.009300    0.007500    0.006850    0.005950   \n",
       "75%      0.016725    0.014900    0.014500    0.012100    0.010575    0.010425   \n",
       "max      0.070900    0.039000    0.035200    0.044700    0.039400    0.035500   \n",
       "\n",
       "               57          58          59  \n",
       "count  208.000000  208.000000  208.000000  \n",
       "mean     0.007949    0.007941    0.006507  \n",
       "std      0.006470    0.006181    0.005031  \n",
       "min      0.000300    0.000100    0.000600  \n",
       "25%      0.003600    0.003675    0.003100  \n",
       "50%      0.005800    0.006400    0.005300  \n",
       "75%      0.010350    0.010325    0.008525  \n",
       "max      0.044000    0.036400    0.043900  \n",
       "\n",
       "[8 rows x 60 columns]"
      ]
     },
     "execution_count": 15,
     "metadata": {},
     "output_type": "execute_result"
    }
   ],
   "source": [
    "data=pd.read_csv('sonar.csv',header=None)\n",
    "data.head(10)\n",
    "data.describe()"
   ]
  },
  {
   "cell_type": "code",
   "execution_count": 16,
   "metadata": {},
   "outputs": [
    {
     "data": {
      "text/plain": [
       "array(['R', 'M'], dtype=object)"
      ]
     },
     "execution_count": 16,
     "metadata": {},
     "output_type": "execute_result"
    }
   ],
   "source": [
    "data[60].unique()"
   ]
  },
  {
   "cell_type": "code",
   "execution_count": 17,
   "metadata": {},
   "outputs": [
    {
     "data": {
      "image/png": "[encoded data removed]",
      "text/plain": [
       "<Figure size 432x288 with 2 Axes>"
      ]
     },
     "metadata": {},
     "output_type": "display_data"
    }
   ],
   "source": [
    "sns.set()\n",
    "sns.heatmap(data.corr())\n",
    "plt.show()"
   ]
  },
  {
   "cell_type": "code",
   "execution_count": 18,
   "metadata": {},
   "outputs": [],
   "source": [
    "#sns.pairplot(data['R',1,2,3])\n",
    "#plt.show()\n",
    "data[60]=[1 if (k=='M') else 0 for k in data[60]]"
   ]
  },
  {
   "cell_type": "code",
   "execution_count": 19,
   "metadata": {},
   "outputs": [
    {
     "name": "stdout",
     "output_type": "stream",
     "text": [
      "(61, 61)\n"
     ]
    }
   ],
   "source": [
    "g=data.corr()\n",
    "h=np.correlate(data[60],data[1])\n",
    "print(g.shape)\n",
    "g_relevant=abs(g.iloc[60])\n",
    "#g"
   ]
  },
  {
   "cell_type": "code",
   "execution_count": 20,
   "metadata": {},
   "outputs": [
    {
     "data": {
      "text/plain": [
       "0     0.271694\n",
       "1     0.231238\n",
       "2     0.192195\n",
       "3     0.250638\n",
       "4     0.222232\n",
       "        ...   \n",
       "56    0.000933\n",
       "57    0.184191\n",
       "58    0.130826\n",
       "59    0.090055\n",
       "60    1.000000\n",
       "Name: 60, Length: 61, dtype: float64"
      ]
     },
     "execution_count": 20,
     "metadata": {},
     "output_type": "execute_result"
    }
   ],
   "source": [
    "g_relevant"
   ]
  },
  {
   "cell_type": "code",
   "execution_count": 21,
   "metadata": {},
   "outputs": [
    {
     "data": {
      "text/plain": [
       "11.19160753040769"
      ]
     },
     "execution_count": 21,
     "metadata": {},
     "output_type": "execute_result"
    }
   ],
   "source": [
    "g_relevant.sum()"
   ]
  },
  {
   "cell_type": "code",
   "execution_count": 22,
   "metadata": {},
   "outputs": [
    {
     "data": {
      "image/png": "[encoded data removed]",
      "text/plain": [
       "<Figure size 432x288 with 1 Axes>"
      ]
     },
     "metadata": {},
     "output_type": "display_data"
    }
   ],
   "source": [
    "sns.barplot(data[4],data[60])\n",
    "plt.show()"
   ]
  },
  {
   "cell_type": "code",
   "execution_count": 23,
   "metadata": {},
   "outputs": [
    {
     "name": "stdout",
     "output_type": "stream",
     "text": [
      "0    0\n",
      "1    0\n",
      "2    0\n",
      "3    0\n",
      "4    0\n",
      "Name: 60, dtype: int64\n",
      "       0       1       2       3       4       5       6       7       8   \\\n",
      "0  0.0200  0.0371  0.0428  0.0207  0.0954  0.0986  0.1539  0.1601  0.3109   \n",
      "1  0.0453  0.0523  0.0843  0.0689  0.1183  0.2583  0.2156  0.3481  0.3337   \n",
      "2  0.0262  0.0582  0.1099  0.1083  0.0974  0.2280  0.2431  0.3771  0.5598   \n",
      "3  0.0100  0.0171  0.0623  0.0205  0.0205  0.0368  0.1098  0.1276  0.0598   \n",
      "4  0.0762  0.0666  0.0481  0.0394  0.0590  0.0649  0.1209  0.2467  0.3564   \n",
      "\n",
      "       9   ...      50      51      52      53      54      55      56  \\\n",
      "0  0.2111  ...  0.0232  0.0027  0.0065  0.0159  0.0072  0.0167  0.0180   \n",
      "1  0.2872  ...  0.0125  0.0084  0.0089  0.0048  0.0094  0.0191  0.0140   \n",
      "2  0.6194  ...  0.0033  0.0232  0.0166  0.0095  0.0180  0.0244  0.0316   \n",
      "3  0.1264  ...  0.0241  0.0121  0.0036  0.0150  0.0085  0.0073  0.0050   \n",
      "4  0.4459  ...  0.0156  0.0031  0.0054  0.0105  0.0110  0.0015  0.0072   \n",
      "\n",
      "       57      58      59  \n",
      "0  0.0084  0.0090  0.0032  \n",
      "1  0.0049  0.0052  0.0044  \n",
      "2  0.0164  0.0095  0.0078  \n",
      "3  0.0044  0.0040  0.0117  \n",
      "4  0.0048  0.0107  0.0094  \n",
      "\n",
      "[5 rows x 60 columns]\n"
     ]
    }
   ],
   "source": [
    "y=data[60]\n",
    "x=data.drop(columns=60,axis=1)\n",
    "print(y.head(5))\n",
    "print(x.head(5))"
   ]
  },
  {
   "cell_type": "code",
   "execution_count": 24,
   "metadata": {},
   "outputs": [],
   "source": [
    "import sklearn\n",
    "from sklearn import model_selection\n",
    "from sklearn.preprocessing import StandardScaler\n",
    "from sklearn.decomposition import PCA\n",
    "from sklearn.linear_model import LogisticRegression\n",
    "from sklearn.pipeline import Pipeline\n",
    "from sklearn.ensemble import RandomForestClassifier\n"
   ]
  },
  {
   "cell_type": "code",
   "execution_count": 25,
   "metadata": {},
   "outputs": [
    {
     "name": "stdout",
     "output_type": "stream",
     "text": [
      "for decomposition in  1 components logistic regression gives a score of 0.5833333333333334 on training data\n",
      "for decomposition in  1 components logistic regression gives a score of 0.40384615384615385 on test data\n",
      "for decomposition in  2 components logistic regression gives a score of 0.6089743589743589 on training data\n",
      "for decomposition in  2 components logistic regression gives a score of 0.5192307692307693 on test data\n",
      "for decomposition in  3 components logistic regression gives a score of 0.7756410256410257 on training data\n",
      "for decomposition in  3 components logistic regression gives a score of 0.7307692307692307 on test data\n",
      "for decomposition in  4 components logistic regression gives a score of 0.782051282051282 on training data\n",
      "for decomposition in  4 components logistic regression gives a score of 0.7307692307692307 on test data\n",
      "for decomposition in  5 components logistic regression gives a score of 0.782051282051282 on training data\n",
      "for decomposition in  5 components logistic regression gives a score of 0.7115384615384616 on test data\n",
      "for decomposition in  6 components logistic regression gives a score of 0.7884615384615384 on training data\n",
      "for decomposition in  6 components logistic regression gives a score of 0.6923076923076923 on test data\n",
      "for decomposition in  7 components logistic regression gives a score of 0.8076923076923077 on training data\n",
      "for decomposition in  7 components logistic regression gives a score of 0.6923076923076923 on test data\n",
      "for decomposition in  8 components logistic regression gives a score of 0.8205128205128205 on training data\n",
      "for decomposition in  8 components logistic regression gives a score of 0.7115384615384616 on test data\n",
      "for decomposition in  9 components logistic regression gives a score of 0.8141025641025641 on training data\n",
      "for decomposition in  9 components logistic regression gives a score of 0.7692307692307693 on test data\n",
      "for decomposition in  10 components logistic regression gives a score of 0.8076923076923077 on training data\n",
      "for decomposition in  10 components logistic regression gives a score of 0.7884615384615384 on test data\n",
      "for decomposition in  11 components logistic regression gives a score of 0.8141025641025641 on training data\n",
      "for decomposition in  11 components logistic regression gives a score of 0.7692307692307693 on test data\n",
      "for decomposition in  12 components logistic regression gives a score of 0.8333333333333334 on training data\n",
      "for decomposition in  12 components logistic regression gives a score of 0.7692307692307693 on test data\n",
      "for decomposition in  13 components logistic regression gives a score of 0.8397435897435898 on training data\n",
      "for decomposition in  13 components logistic regression gives a score of 0.7307692307692307 on test data\n",
      "for decomposition in  14 components logistic regression gives a score of 0.8397435897435898 on training data\n",
      "for decomposition in  14 components logistic regression gives a score of 0.7692307692307693 on test data\n"
     ]
    }
   ],
   "source": [
    "X_train,X_test,y_train,y_test=model_selection.train_test_split(x,y,test_size=0.25)\n",
    "for k in range(1,15):\n",
    "    logistic_reg_pipeline=Pipeline([('Scalar',StandardScaler()),('PCA',PCA(n_components=k)),('Logistic_Regression',LogisticRegression())])\n",
    "    logistic_reg_pipeline.fit(X_train,y_train)\n",
    "    print(\"for decomposition in \",k,'components logistic regression gives a score of',logistic_reg_pipeline.score(X_train,y_train),'on training data')\n",
    "    print(\"for decomposition in \",k,'components logistic regression gives a score of',logistic_reg_pipeline.score(X_test,y_test),'on test data')\n"
   ]
  },
  {
   "cell_type": "code",
   "execution_count": 26,
   "metadata": {},
   "outputs": [
    {
     "name": "stdout",
     "output_type": "stream",
     "text": [
      "for decomposition in  1 components logistic regression gives a F1 score of 0.6012269938650308 on training data\n",
      "for decomposition in  1 components logistic regression gives a F1 score of 0.47457627118644063 on test data\n",
      "for decomposition in  2 components logistic regression gives a F1 score of 0.6303030303030304 on training data\n",
      "for decomposition in  2 components logistic regression gives a F1 score of 0.5762711864406779 on test data\n",
      "for decomposition in  3 components logistic regression gives a F1 score of 0.7798742138364778 on training data\n",
      "for decomposition in  3 components logistic regression gives a F1 score of 0.7307692307692307 on test data\n",
      "for decomposition in  4 components logistic regression gives a F1 score of 0.7848101265822784 on training data\n",
      "for decomposition in  4 components logistic regression gives a F1 score of 0.7307692307692307 on test data\n",
      "for decomposition in  5 components logistic regression gives a F1 score of 0.7926829268292682 on training data\n",
      "for decomposition in  5 components logistic regression gives a F1 score of 0.7169811320754718 on test data\n",
      "for decomposition in  6 components logistic regression gives a F1 score of 0.7975460122699387 on training data\n",
      "for decomposition in  6 components logistic regression gives a F1 score of 0.7037037037037038 on test data\n",
      "for decomposition in  7 components logistic regression gives a F1 score of 0.8124999999999999 on training data\n",
      "for decomposition in  7 components logistic regression gives a F1 score of 0.7037037037037038 on test data\n",
      "for decomposition in  8 components logistic regression gives a F1 score of 0.825 on training data\n",
      "for decomposition in  8 components logistic regression gives a F1 score of 0.7169811320754718 on test data\n",
      "for decomposition in  9 components logistic regression gives a F1 score of 0.8263473053892216 on training data\n",
      "for decomposition in  9 components logistic regression gives a F1 score of 0.7999999999999999 on test data\n",
      "for decomposition in  10 components logistic regression gives a F1 score of 0.8214285714285715 on training data\n",
      "for decomposition in  10 components logistic regression gives a F1 score of 0.819672131147541 on test data\n",
      "for decomposition in  11 components logistic regression gives a F1 score of 0.8263473053892216 on training data\n",
      "for decomposition in  11 components logistic regression gives a F1 score of 0.7999999999999999 on test data\n",
      "for decomposition in  12 components logistic regression gives a F1 score of 0.8414634146341464 on training data\n",
      "for decomposition in  12 components logistic regression gives a F1 score of 0.7999999999999999 on test data\n",
      "for decomposition in  13 components logistic regression gives a F1 score of 0.8466257668711658 on training data\n",
      "for decomposition in  13 components logistic regression gives a F1 score of 0.7666666666666666 on test data\n",
      "for decomposition in  14 components logistic regression gives a F1 score of 0.84472049689441 on training data\n",
      "for decomposition in  14 components logistic regression gives a F1 score of 0.793103448275862 on test data\n"
     ]
    }
   ],
   "source": [
    "for k in range(1,15):\n",
    "    logistic_reg_pipeline=Pipeline([('Scalar',StandardScaler()),('PCA',PCA(n_components=k)),('Logistic_Regression',LogisticRegression())])\n",
    "    logistic_reg_pipeline.fit(X_train,y_train)\n",
    "    print(\"for decomposition in \",k,'components logistic regression gives a F1 score of',f1_score(y_train,logistic_reg_pipeline.predict(X_train)),'on training data')\n",
    "    print(\"for decomposition in \",k,'components logistic regression gives a F1 score of',f1_score(y_test,logistic_reg_pipeline.predict(X_test)),'on test data')\n"
   ]
  },
  {
   "cell_type": "code",
   "execution_count": 27,
   "metadata": {},
   "outputs": [
    {
     "name": "stdout",
     "output_type": "stream",
     "text": [
      "[[18  6]\n",
      " [ 9 19]]\n",
      "0.7169811320754718\n"
     ]
    }
   ],
   "source": [
    "from sklearn.metrics import confusion_matrix,f1_score\n",
    "logistic_reg_optimised_pipeline=Pipeline([('Scalar',StandardScaler()),('PCA',PCA(n_components=8)),('Logistic_Regression',LogisticRegression())])\n",
    "logistic_reg_optimised_pipeline.fit(X_train,y_train)\n",
    "print(confusion_matrix(y_test,logistic_reg_optimised_pipeline.predict(X_test)))\n",
    "print(f1_score(y_test,logistic_reg_optimised_pipeline.predict(X_test)))"
   ]
  },
  {
   "cell_type": "markdown",
   "metadata": {},
   "source": [
    "let us see if random forest can do better than logistic regression"
   ]
  },
  {
   "cell_type": "code",
   "execution_count": 28,
   "metadata": {},
   "outputs": [
    {
     "name": "stdout",
     "output_type": "stream",
     "text": [
      "for decomposition in  1 components random forest gives a score of 1.0 on training data\n",
      "for decomposition in  1 components random forest gives a score of 0.4807692307692308 on test data\n",
      "for decomposition in  2 components random forest gives a score of 1.0 on training data\n",
      "for decomposition in  2 components random forest gives a score of 0.6730769230769231 on test data\n",
      "for decomposition in  3 components random forest gives a score of 1.0 on training data\n",
      "for decomposition in  3 components random forest gives a score of 0.7884615384615384 on test data\n",
      "for decomposition in  4 components random forest gives a score of 1.0 on training data\n",
      "for decomposition in  4 components random forest gives a score of 0.9038461538461539 on test data\n",
      "for decomposition in  5 components random forest gives a score of 1.0 on training data\n",
      "for decomposition in  5 components random forest gives a score of 0.8653846153846154 on test data\n",
      "for decomposition in  6 components random forest gives a score of 1.0 on training data\n",
      "for decomposition in  6 components random forest gives a score of 0.9038461538461539 on test data\n",
      "for decomposition in  7 components random forest gives a score of 1.0 on training data\n",
      "for decomposition in  7 components random forest gives a score of 0.8653846153846154 on test data\n",
      "for decomposition in  8 components random forest gives a score of 1.0 on training data\n",
      "for decomposition in  8 components random forest gives a score of 0.8461538461538461 on test data\n",
      "for decomposition in  9 components random forest gives a score of 1.0 on training data\n",
      "for decomposition in  9 components random forest gives a score of 0.8653846153846154 on test data\n",
      "for decomposition in  10 components random forest gives a score of 1.0 on training data\n",
      "for decomposition in  10 components random forest gives a score of 0.8653846153846154 on test data\n",
      "for decomposition in  11 components random forest gives a score of 1.0 on training data\n",
      "for decomposition in  11 components random forest gives a score of 0.8653846153846154 on test data\n",
      "for decomposition in  12 components random forest gives a score of 1.0 on training data\n",
      "for decomposition in  12 components random forest gives a score of 0.8846153846153846 on test data\n",
      "for decomposition in  13 components random forest gives a score of 1.0 on training data\n",
      "for decomposition in  13 components random forest gives a score of 0.8846153846153846 on test data\n",
      "for decomposition in  14 components random forest gives a score of 1.0 on training data\n",
      "for decomposition in  14 components random forest gives a score of 0.8653846153846154 on test data\n"
     ]
    }
   ],
   "source": [
    "for k in range(1,15):\n",
    "    random_forest_pipeline=Pipeline([('Scalar',StandardScaler()),('PCA',PCA(n_components=k)),('Random Forest',RandomForestClassifier())])\n",
    "    random_forest_pipeline.fit(X_train,y_train)\n",
    "    print(\"for decomposition in \",k,'components random forest gives a score of',random_forest_pipeline.score(X_train,y_train),'on training data')\n",
    "    print(\"for decomposition in \",k,'components random forest gives a score of',random_forest_pipeline.score(X_test,y_test),'on test data')\n"
   ]
  },
  {
   "cell_type": "code",
   "execution_count": 29,
   "metadata": {},
   "outputs": [
    {
     "name": "stdout",
     "output_type": "stream",
     "text": [
      "for decomposition in  1 components logistic regression gives a F1 score of 0.6012269938650308 on training data\n",
      "for decomposition in  1 components logistic regression gives a F1 score of 0.47457627118644063 on test data\n",
      "for decomposition in  2 components logistic regression gives a F1 score of 0.6303030303030304 on training data\n",
      "for decomposition in  2 components logistic regression gives a F1 score of 0.5762711864406779 on test data\n",
      "for decomposition in  3 components logistic regression gives a F1 score of 0.7798742138364778 on training data\n",
      "for decomposition in  3 components logistic regression gives a F1 score of 0.7307692307692307 on test data\n",
      "for decomposition in  4 components logistic regression gives a F1 score of 0.7848101265822784 on training data\n",
      "for decomposition in  4 components logistic regression gives a F1 score of 0.7307692307692307 on test data\n",
      "for decomposition in  5 components logistic regression gives a F1 score of 0.7926829268292682 on training data\n",
      "for decomposition in  5 components logistic regression gives a F1 score of 0.7169811320754718 on test data\n",
      "for decomposition in  6 components logistic regression gives a F1 score of 0.7975460122699387 on training data\n",
      "for decomposition in  6 components logistic regression gives a F1 score of 0.7037037037037038 on test data\n",
      "for decomposition in  7 components logistic regression gives a F1 score of 0.8124999999999999 on training data\n",
      "for decomposition in  7 components logistic regression gives a F1 score of 0.7037037037037038 on test data\n",
      "for decomposition in  8 components logistic regression gives a F1 score of 0.825 on training data\n",
      "for decomposition in  8 components logistic regression gives a F1 score of 0.7169811320754718 on test data\n",
      "for decomposition in  9 components logistic regression gives a F1 score of 0.8263473053892216 on training data\n",
      "for decomposition in  9 components logistic regression gives a F1 score of 0.7999999999999999 on test data\n",
      "for decomposition in  10 components logistic regression gives a F1 score of 0.8214285714285715 on training data\n",
      "for decomposition in  10 components logistic regression gives a F1 score of 0.819672131147541 on test data\n",
      "for decomposition in  11 components logistic regression gives a F1 score of 0.8263473053892216 on training data\n",
      "for decomposition in  11 components logistic regression gives a F1 score of 0.7999999999999999 on test data\n",
      "for decomposition in  12 components logistic regression gives a F1 score of 0.8414634146341464 on training data\n",
      "for decomposition in  12 components logistic regression gives a F1 score of 0.7999999999999999 on test data\n",
      "for decomposition in  13 components logistic regression gives a F1 score of 0.8466257668711658 on training data\n",
      "for decomposition in  13 components logistic regression gives a F1 score of 0.7666666666666666 on test data\n",
      "for decomposition in  14 components logistic regression gives a F1 score of 0.84472049689441 on training data\n",
      "for decomposition in  14 components logistic regression gives a F1 score of 0.793103448275862 on test data\n"
     ]
    }
   ],
   "source": [
    "for k in range(1,15):\n",
    "    random_forest_pipeline=Pipeline([('Scalar',StandardScaler()),('PCA',PCA(n_components=k)),('Logistic_Regression',LogisticRegression())])\n",
    "    random_forest_pipeline.fit(X_train,y_train)\n",
    "    print(\"for decomposition in \",k,'components logistic regression gives a F1 score of',f1_score(y_train,random_forest_pipeline.predict(X_train)),'on training data')\n",
    "    print(\"for decomposition in \",k,'components logistic regression gives a F1 score of',f1_score(y_test,random_forest_pipeline.predict(X_test)),'on test data')\n"
   ]
  },
  {
   "cell_type": "code",
   "execution_count": 30,
   "metadata": {},
   "outputs": [
    {
     "name": "stdout",
     "output_type": "stream",
     "text": [
      "[[16  8]\n",
      " [ 4 24]]\n",
      "0.7999999999999999\n"
     ]
    }
   ],
   "source": [
    "\n",
    "random_forest_optimised_pipeline=Pipeline([('Scalar',StandardScaler()),('PCA',PCA(n_components=11)),('Logistic_Regression',LogisticRegression())])\n",
    "random_forest_optimised_pipeline.fit(X_train,y_train)\n",
    "print(confusion_matrix(y_test,random_forest_optimised_pipeline.predict(X_test)))\n",
    "print(f1_score(y_test,random_forest_optimised_pipeline.predict(X_test)))"
   ]
  },
  {
   "cell_type": "code",
   "execution_count": 31,
   "metadata": {},
   "outputs": [],
   "source": [
    "from sklearn.gaussian_process import GaussianProcessClassifier"
   ]
  },
  {
   "cell_type": "code",
   "execution_count": 32,
   "metadata": {},
   "outputs": [
    {
     "name": "stdout",
     "output_type": "stream",
     "text": [
      "for decomposition in  1 components Gaussian process gives a score of 0.6217948717948718 on training data\n",
      "for decomposition in  1 components Gaussian process gives a score of 0.4230769230769231 on test data\n",
      "for decomposition in  2 components Gaussian process gives a score of 0.7435897435897436 on training data\n",
      "for decomposition in  2 components Gaussian process gives a score of 0.5769230769230769 on test data\n",
      "for decomposition in  3 components Gaussian process gives a score of 0.9294871794871795 on training data\n",
      "for decomposition in  3 components Gaussian process gives a score of 0.7692307692307693 on test data\n",
      "for decomposition in  4 components Gaussian process gives a score of 0.9871794871794872 on training data\n",
      "for decomposition in  4 components Gaussian process gives a score of 0.8653846153846154 on test data\n",
      "for decomposition in  5 components Gaussian process gives a score of 1.0 on training data\n",
      "for decomposition in  5 components Gaussian process gives a score of 0.8846153846153846 on test data\n",
      "for decomposition in  6 components Gaussian process gives a score of 1.0 on training data\n",
      "for decomposition in  6 components Gaussian process gives a score of 0.8846153846153846 on test data\n",
      "for decomposition in  7 components Gaussian process gives a score of 1.0 on training data\n",
      "for decomposition in  7 components Gaussian process gives a score of 0.8846153846153846 on test data\n",
      "for decomposition in  8 components Gaussian process gives a score of 1.0 on training data\n",
      "for decomposition in  8 components Gaussian process gives a score of 0.9423076923076923 on test data\n",
      "for decomposition in  9 components Gaussian process gives a score of 1.0 on training data\n",
      "for decomposition in  9 components Gaussian process gives a score of 0.9038461538461539 on test data\n",
      "for decomposition in  10 components Gaussian process gives a score of 1.0 on training data\n",
      "for decomposition in  10 components Gaussian process gives a score of 0.8846153846153846 on test data\n",
      "for decomposition in  11 components Gaussian process gives a score of 1.0 on training data\n",
      "for decomposition in  11 components Gaussian process gives a score of 0.8846153846153846 on test data\n",
      "for decomposition in  12 components Gaussian process gives a score of 1.0 on training data\n",
      "for decomposition in  12 components Gaussian process gives a score of 0.9038461538461539 on test data\n",
      "for decomposition in  13 components Gaussian process gives a score of 1.0 on training data\n",
      "for decomposition in  13 components Gaussian process gives a score of 0.8846153846153846 on test data\n",
      "for decomposition in  14 components Gaussian process gives a score of 1.0 on training data\n",
      "for decomposition in  14 components Gaussian process gives a score of 0.8461538461538461 on test data\n"
     ]
    }
   ],
   "source": [
    "for k in range(1,15):\n",
    "    gaussian_pipeline=Pipeline([('Scalar',StandardScaler()),('PCA',PCA(n_components=k)),('Gaussian Process',GaussianProcessClassifier())])\n",
    "    gaussian_pipeline.fit(X_train,y_train)\n",
    "    print(\"for decomposition in \",k,'components Gaussian process gives a score of',gaussian_pipeline.score(X_train,y_train),'on training data')\n",
    "    print(\"for decomposition in \",k,'components Gaussian process gives a score of',gaussian_pipeline.score(X_test,y_test),'on test data')\n"
   ]
  },
  {
   "cell_type": "code",
   "execution_count": 33,
   "metadata": {},
   "outputs": [
    {
     "name": "stdout",
     "output_type": "stream",
     "text": [
      "for decomposition in  1 components Gaussian process gives a F1 score of 0.7035175879396985 on training data\n",
      "for decomposition in  1 components Gaussian process gives a F1 score of 0.5714285714285714 on test data\n",
      "for decomposition in  2 components Gaussian process gives a F1 score of 0.7727272727272727 on training data\n",
      "for decomposition in  2 components Gaussian process gives a F1 score of 0.6857142857142857 on test data\n",
      "for decomposition in  3 components Gaussian process gives a F1 score of 0.930817610062893 on training data\n",
      "for decomposition in  3 components Gaussian process gives a F1 score of 0.7692307692307692 on test data\n",
      "for decomposition in  4 components Gaussian process gives a F1 score of 0.9878048780487805 on training data\n",
      "for decomposition in  4 components Gaussian process gives a F1 score of 0.8727272727272727 on test data\n",
      "for decomposition in  5 components Gaussian process gives a F1 score of 1.0 on training data\n",
      "for decomposition in  5 components Gaussian process gives a F1 score of 0.888888888888889 on test data\n",
      "for decomposition in  6 components Gaussian process gives a F1 score of 1.0 on training data\n",
      "for decomposition in  6 components Gaussian process gives a F1 score of 0.8846153846153847 on test data\n",
      "for decomposition in  7 components Gaussian process gives a F1 score of 1.0 on training data\n",
      "for decomposition in  7 components Gaussian process gives a F1 score of 0.8846153846153847 on test data\n",
      "for decomposition in  8 components Gaussian process gives a F1 score of 1.0 on training data\n",
      "for decomposition in  8 components Gaussian process gives a F1 score of 0.9454545454545454 on test data\n",
      "for decomposition in  9 components Gaussian process gives a F1 score of 1.0 on training data\n",
      "for decomposition in  9 components Gaussian process gives a F1 score of 0.9090909090909091 on test data\n",
      "for decomposition in  10 components Gaussian process gives a F1 score of 1.0 on training data\n",
      "for decomposition in  10 components Gaussian process gives a F1 score of 0.8928571428571429 on test data\n",
      "for decomposition in  11 components Gaussian process gives a F1 score of 1.0 on training data\n",
      "for decomposition in  11 components Gaussian process gives a F1 score of 0.888888888888889 on test data\n",
      "for decomposition in  12 components Gaussian process gives a F1 score of 1.0 on training data\n",
      "for decomposition in  12 components Gaussian process gives a F1 score of 0.9090909090909091 on test data\n",
      "for decomposition in  13 components Gaussian process gives a F1 score of 1.0 on training data\n",
      "for decomposition in  13 components Gaussian process gives a F1 score of 0.8928571428571429 on test data\n",
      "for decomposition in  14 components Gaussian process gives a F1 score of 1.0 on training data\n",
      "for decomposition in  14 components Gaussian process gives a F1 score of 0.8571428571428571 on test data\n"
     ]
    }
   ],
   "source": [
    "for k in range(1,15):\n",
    "    gaussian_pipeline=Pipeline([('Scalar',StandardScaler()),('PCA',PCA(n_components=k)),('Gaussian Process',GaussianProcessClassifier())])\n",
    "    gaussian_pipeline.fit(X_train,y_train)\n",
    "    print(\"for decomposition in \",k,'components Gaussian process gives a F1 score of',f1_score(y_train,gaussian_pipeline.predict(X_train)),'on training data')\n",
    "    print(\"for decomposition in \",k,'components Gaussian process gives a F1 score of',f1_score(y_test,gaussian_pipeline.predict(X_test)),'on test data')\n"
   ]
  },
  {
   "cell_type": "markdown",
   "metadata": {},
   "source": [
    "This does not surpass the performance of random forest so we consider random forest as our final model."
   ]
  },
  {
   "cell_type": "code",
   "execution_count": 34,
   "metadata": {},
   "outputs": [
    {
     "name": "stderr",
     "output_type": "stream",
     "text": [
      "C:\\ProgramData\\Anaconda3\\lib\\site-packages\\sklearn\\externals\\joblib\\__init__.py:15: FutureWarning: sklearn.externals.joblib is deprecated in 0.21 and will be removed in 0.23. Please import this functionality directly from joblib, which can be installed with: pip install joblib. If this warning is raised when loading pickled models, you may need to re-serialize those models with scikit-learn 0.21+.\n",
      "  warnings.warn(msg, category=FutureWarning)\n"
     ]
    },
    {
     "data": {
      "text/plain": [
       "['RFOP.pkl']"
      ]
     },
     "execution_count": 34,
     "metadata": {},
     "output_type": "execute_result"
    }
   ],
   "source": [
    "from sklearn.externals import joblib\n",
    "joblib.dump(random_forest_optimised_pipeline,'RFOP.pkl')"
   ]
  }
 ],
 "metadata": {
  "kernelspec": {
   "display_name": "Python 3",
   "language": "python",
   "name": "python3"
  },
  "language_info": {
   "codemirror_mode": {
    "name": "ipython",
    "version": 3
   },
   "file_extension": ".py",
   "mimetype": "text/x-python",
   "name": "python",
   "nbconvert_exporter": "python",
   "pygments_lexer": "ipython3",
   "version": "3.7.6"
  }
 },
 "nbformat": 4,
 "nbformat_minor": 4
}
